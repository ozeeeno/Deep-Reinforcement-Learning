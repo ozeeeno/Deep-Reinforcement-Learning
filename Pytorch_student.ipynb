{
  "cells": [
    {
      "cell_type": "markdown",
      "metadata": {
        "id": "view-in-github",
        "colab_type": "text"
      },
      "source": [
        "<a href=\"https://colab.research.google.com/github/ozeeeno/Deep-Reinforcement-Learning/blob/master/Pytorch_student.ipynb\" target=\"_parent\"><img src=\"https://colab.research.google.com/assets/colab-badge.svg\" alt=\"Open In Colab\"/></a>"
      ]
    },
    {
      "cell_type": "markdown",
      "metadata": {
        "id": "QgVskExZ1-sc"
      },
      "source": [
        "본 교육자료는 OUTTA 교육자료팀 임주희의 고유 창작물이되 OUTTA 교육자료 및 'https://pytorch.org/tutorials/beginner/basics/data_tutorial.html' 의 내용을 바탕으로 검토하여 구성되었음을 밝힙니다.\n",
        "\n",
        "※ OUTTA의 허가 없이 함부로 자료를 무단 배포하는 것을 엄격히 금합니다. ※\n",
        "\n",
        "<br>\n",
        "Pytorch 라이브러리 소개는 아래과 같이 tensor의 operation, autograd, dataset and loader, 이후 CNN 학습의 순서로 구성되어 있습니다."
      ]
    },
    {
      "cell_type": "markdown",
      "metadata": {
        "id": "p3Z6mKn6N7r0"
      },
      "source": [
        "## 1. Pytorch"
      ]
    },
    {
      "cell_type": "markdown",
      "metadata": {
        "id": "EZ4rFsUA1-sl"
      },
      "source": [
        "### Tensor\n",
        "우리가 알고 있는 numpy 배열과 유사한 tensor라는 개념은 Pytorch에서 매우 중요하다. 아마 mynn 라이브러리를 활용하여 tensor을 이용했을 때에는 'from mygrad import Tensor'을 사용했을텐데 Pytorch에는 이 기능이 default로 들어가 있기 때문에 torch만 import 해줘도 자유롭게 사용할 수 있다.\n",
        "이 개념은 배열이나 행렬로 이해해도 좋으며 우리가 원하는 배열을 집어 넣어서 새로운 행렬을 생성할 수 있다. 이렇게 생성한 텐서로부터 우리가 원하는 정보를 추출할 수도 있고 행렬과 마찬가지로 이들 간의 사칙연산도 Pytorch에서 가능하다.\n",
        "- Tensor 만들기: torch.tensor(data: Any, dtype: _dtype | None = None, device: _device), torch.empty(shape), torch.rand(shape), torch.ones(shape), torch.zeros(shape) - 이때의 shape은 우리가 만들고자 하는 tensor의 차원을 지정해준다. 만약 2차원으로 tensor을 형성하고 싶다면 (a,b)을 shape에 입력해주면 a X b와 같은 행렬을 얻을 수 있다."
      ]
    },
    {
      "cell_type": "code",
      "execution_count": null,
      "metadata": {
        "id": "Zg604zjw1-sm"
      },
      "outputs": [],
      "source": [
        "import torch\n",
        "\n",
        "a = torch.empty(4,5) # 4X5 empty matrix 생성\n",
        "print(a)\n",
        "# +) tensor로 잘 형성되었는지 확인해보고 싶다면 a의 data type을 확인해보면 된다.(e.g. float32로 출력된다면 32 bit의 float 자료형이 형성되었음을 의미)\n",
        "print(a.dtype)\n",
        "\n",
        "# torch.empty로 tensor을 형성하는 것은 tensor를 초기화하지 않았기 때문에 단순히 2차원의 4 x 5 행렬을 생성해준 꼴\n",
        "# 초기화하고 싶다면? \n",
        "b = torch.zeros(4,5) # 영행렬\n",
        "c = torch.rand(3,4) # random한 숫자로 배열을 채움.\n",
        "d = torch.ones(3,4) # 모든 원소가 1인 3 x 4 array\n",
        "\n",
        "print(b)\n",
        "print(c)\n",
        "print(d)"
      ]
    },
    {
      "cell_type": "markdown",
      "metadata": {
        "id": "V3XHleQx1-sp"
      },
      "source": [
        "이제 tensor 형성의 기본을 익혔으니 직접 데이터를 텐서 안에 넣어 초기화하여 형성하는 방법을 공부해봅시다."
      ]
    },
    {
      "cell_type": "code",
      "execution_count": null,
      "metadata": {
        "id": "VZVwqCbq1-sq"
      },
      "outputs": [],
      "source": [
        "X_data = ([1,2], [3,4])\n",
        "# 이런 조합으로 이루어진 데이터를 tensor 자료형으로 만들고 싶다면?\n",
        "\n",
        "tensor_with_Data = torch.tensor(X_data)\n",
        "print(tensor_with_Data) # 이 tensor의 size을 예측해보세요!"
      ]
    },
    {
      "cell_type": "code",
      "execution_count": null,
      "metadata": {
        "id": "FDtBLN9W1-sr"
      },
      "outputs": [],
      "source": [
        "print(tensor_with_Data.size())\n",
        "# tensor에 우리가 원하는 방향으로 data가 잘 입력되었는지 안전하게 확인해주고자 size()을 이용한다."
      ]
    },
    {
      "cell_type": "code",
      "execution_count": null,
      "metadata": {
        "id": "lp_y5L371-sr"
      },
      "outputs": [],
      "source": [
        "print(tensor_with_Data.shape)"
      ]
    },
    {
      "cell_type": "code",
      "execution_count": null,
      "metadata": {
        "id": "NkmA7o8l1-ss"
      },
      "outputs": [],
      "source": [
        "# 자료형을 명시적으로 지정하여 tensor을 형성할 수도 있다.\n",
        "tensor_with_dtype1 = torch.tensor([1,2], dtype=float)\n",
        "tensor_with_dtype2 = torch.tensor([1,2], dtype=int)\n",
        "print(tensor_with_dtype1)\n",
        "print(tensor_with_dtype2)\n",
        "# 차이점을 확인해보세요!"
      ]
    },
    {
      "cell_type": "markdown",
      "metadata": {
        "id": "adhz8ZPi1-st"
      },
      "source": [
        "마지막으로 tensor.torch()에 적혀있는 device는 말그대로 이 tensor가 저장된 장소를 가리킨다."
      ]
    },
    {
      "cell_type": "code",
      "execution_count": null,
      "metadata": {
        "id": "kx2gVhHn1-su"
      },
      "outputs": [],
      "source": [
        "print(tensor_with_Data.device)"
      ]
    },
    {
      "cell_type": "markdown",
      "metadata": {
        "id": "KosSWv0a1-su"
      },
      "source": [
        "### Operation\n",
        "지금부터 tensor을 다양하게 활용해보려 한다. 기본적으로 텐서끼리는 사칙 연산이 가능하다. Pytorch 내에 연산자(operator)가 내장되어 있기 때문에 따로 연산자 오버로딩을 해주지 않아도 /, +, -, *의 연산자를 자유롭게 사용할 수 있다. 이건 예시를 통해서 보도록 하자!"
      ]
    },
    {
      "cell_type": "code",
      "execution_count": null,
      "metadata": {
        "id": "uxi7xC7V1-sv"
      },
      "outputs": [],
      "source": [
        "tensor1 = torch.tensor([[5,10],[6,12]])\n",
        "tensor2 = torch.tensor([[1,2],[3,4]])\n",
        "operation1 = tensor1 / tensor2\n",
        "operation2 = tensor1 + tensor2\n",
        "operation3 = tensor1 - tensor2\n",
        "operation4 = tensor1 * tensor2\n",
        "print(operation1)\n",
        "print(operation2)\n",
        "print(operation3)\n",
        "print(operation4)"
      ]
    },
    {
      "cell_type": "markdown",
      "metadata": {
        "id": "P7sm2Y721-sv"
      },
      "source": [
        "그렇다면 행렬곱(matrix multiplication)은 어떻게 진행할까? 이는 위의 코드에서 수행했던 '*' 연산자와 혼동할 수 있음에 주의해야 한다. <br> 행렬의 연산은 A X B에서 A의 행과 B의 열을 곱하여 연산한다. 따라서 tensor.T을 이용해 뒤에 곱할 행렬의 행과 열을 바꿔주어 전치행렬로 만들어야 한다.\n",
        "혼동할 시 아래와 같은 문제가 발생할 수 있다.(아래 예시는 Pytorch에 내장된 torch.matmul(tensor,tensor)을 이용한다.)"
      ]
    },
    {
      "cell_type": "code",
      "execution_count": null,
      "metadata": {
        "id": "tc8I1asq1-sv"
      },
      "outputs": [],
      "source": [
        "# tensor1 = torch.tensor([[10,20],[2,4]])\n",
        "# tensor2 = torch.tensor([[5,10],[1,2]])\n",
        "# operation4 = tensor1 * tensor2 \n",
        "# tensor 내에서 동일한 위치에 있는 요소들끼리의 곱을 반환\n",
        "print(operation4)\n",
        "\n",
        "op_matmul1 = tensor1 @ tensor2.T # '@' 연산자는 행렬곱을 위한 연산자 \n",
        "print(op_matmul1)\n",
        "\n",
        "op_matmul2 = tensor1.matmul(tensor2.T) # 위와 동일한 결과로 내장함수 matmul 사용\n",
        "print(op_matmul2)"
      ]
    },
    {
      "cell_type": "markdown",
      "metadata": {
        "id": "88EKkCL41-sw"
      },
      "source": [
        "만약 이전에 파이썬을 공부해본 경험이 있다면 배열을 생성할 때나 int, float등을 형성할 때 연산과 동시에 저장하는 법을 배웠을 거다. 주로 연산자 '+=, -=, *=, /='나 배열의 경우에는 .append()을 사용하여 추가했다. 그럼 tensor에는 어떻게 이를 반영할 수 있을까?\n",
        "바꿔치기 연산이라 불리는 in-place 연산을 수행하기 위해 Pytorch에는 언더바라는 접미사가 존재한다. 원하는 operation 뒤에 접미사 언더바를 붙이면 됩니다.(연산을 한 결과를 동시에 저장해서 이전 것을 업데이트하기 때문에 바꿔치기란 이름이 붙는다.)\n",
        "<br>\n",
        "그렇다면 기존 파이썬에서 사용하던 += 등의 연산자는 tensor 연산이 불가능할까? 아래 코드를 실행시켜보자."
      ]
    },
    {
      "cell_type": "code",
      "execution_count": null,
      "metadata": {
        "id": "8tBfbqA91-sw"
      },
      "outputs": [],
      "source": [
        "tensor1 = torch.tensor([[1,2],[3,4]])\n",
        "tensor2 = torch.tensor([[1,2],[3,4]])\n",
        "\n",
        "tensor1.add_(1)\n",
        "print(tensor1)\n",
        "\n",
        "tensor2+=1\n",
        "print(tensor2)\n",
        "\n",
        "tensor1.multiply_(3)\n",
        "print(tensor1)\n",
        "\n",
        "tensor2*=3\n",
        "print(tensor2)"
      ]
    },
    {
      "cell_type": "markdown",
      "metadata": {
        "id": "aGaRw-Oq1-sw"
      },
      "source": [
        "동일한 결과가 나오는 것을 알 수 있다. 이처럼 Pytorch에는 다양한 연산자가 있어 tensor 연산은 자유로운 편이다. 다만 앞서 소개한 행렬곱 연산에만 조금 유의하면 될 것 같다.\n",
        "이렇게 간단한 상황에서는 위 in-place 연산을 써도 좋으나 후에 신경망을 구성하고 모델을 세팅해 학습하는 과정에서 이 연산자는 매우 위험하다. 그 이유는 바로 뒤이어 나올 'Autograd' 개념을 통해 알아보겠다."
      ]
    },
    {
      "cell_type": "markdown",
      "metadata": {
        "id": "82U7ESaK1-sx"
      },
      "source": [
        "### Autograd\n",
        "CNN을 공부했다면 이 autograd의 중요성을 어느정도 이해했을 것이라 생각한다. 사실 처음 접하면 대체 왜 기울기를 얻지?하는 의구심이 들 수 있다. 배웠듯이 이는 loss을 줄여나가기 위하나 과정이다!\n",
        "forward propagation만을 수행하기보다는, 보다 나은 모델의 학습을 위해 우리는 back propagation도 함께 수행한다. 즉 forward propagation에서 얻은 gradient가 back propagation을 진행하면서 사용된다. 보다 loss을 최적으로 줄일 수 있는 gradient descent(경사하강법)을 이용하며 이는 forward propagation만 수행했을 때 보다 훨씬 더 적은 연산을 하도록 하기 때문에 모델 학습과 불가분한 존재라고 할 수 있다."
      ]
    },
    {
      "cell_type": "markdown",
      "metadata": {
        "id": "WuitxDKc1-sx"
      },
      "source": [
        "앞서 책에서 사용했던 mynn 라이브러리에서는 이를 autodiff라고 정의했다. 'import mygrad as mg'로 자동미분 라이브러리를 불러오고, 만약 불러온 다음에 이 기능을 사용하고 싶지 않다면 'with mg.no_autodiff:'로 함수 내에 작성해주었다. 이제 pytorch로 돌아와서, pytorch에서는 이 기능을 'autograd'라는 이름을 가진 라이브러리로 제공한다. tensor에 적용하고 싶다면 tensor을 형성할 때 'requires_grad=True'라는 문구를 추가해주면 된다. 이 문구를 추가해줌으로써 우리는 나중에 각 tensor에 대한 gradient값을 얻을 수 있다. 이 gradient는 결국 forward propagation에 사용될 가중치가 loss을 보다 최소화할 수 있는 방향으로 업데이트 해주는 역할을 한다.\n",
        "\n",
        "*** gradient는 back propagation으로 얻을 수 있는 term이므로 backward() 실행 후 gradient을 얻어야한다.\n",
        "\n",
        "마찬가지로 pytorch 환경에서 자동미분 기능을 적용하고 싶지 않다면 'with mg.no_autodiff:' 대신 'with torch.no_grad():'로 대체해주면 된다."
      ]
    },
    {
      "cell_type": "code",
      "execution_count": null,
      "metadata": {
        "id": "G4UtNBQX1-sx"
      },
      "outputs": [],
      "source": [
        "autograd1 = torch.ones(1,requires_grad=True)\n",
        "print(autograd1)\n",
        "autograd1.backward()\n",
        "print(autograd1.grad)\n",
        "\n",
        "autograd2 =  torch.tensor([1,2],dtype=float,requires_grad=True)\n",
        "print(autograd2)\n",
        "autograd2.backward()\n",
        "print(autograd2.grad)\n"
      ]
    },
    {
      "cell_type": "markdown",
      "metadata": {
        "id": "qDmpw_CT1-sy"
      },
      "source": [
        "마지막 코드에서 'autogra2'의 backward 연산이 제대로 이루어지지 않을 것을 볼 수 있다. 이는 tensor가 스칼라형이 아니기 때문이다. 이 경우 tensor을 이루는 요소 간의 평균을 내준 후 back propagation을 수행하여 gradient을 얻어야 한다.\n",
        "\n",
        "*** +) autograd2를 활용한 새로운 tensor을 형성한 후, 그 평균을 바탕으로 back propagation을 수행하면 자동으로 autograd2의 gradient에 저장된다. 즉 backward()을 호출할 때마다 특정 자료형에 기울기는 누적되어 저장될 수 있다. 이 내용은 아래 코드의 두번째 블록에서 확인하기 바란다."
      ]
    },
    {
      "cell_type": "code",
      "execution_count": null,
      "metadata": {
        "id": "37BfxYUy1-sy"
      },
      "outputs": [],
      "source": [
        "gradient = (autograd2).mean()\n",
        "gradient.backward()\n",
        "print(autograd2.grad)\n",
        "\n",
        "gradient2 = (autograd2+5).mean()\n",
        "gradient2.backward()\n",
        "print(autograd2.grad) # autogra2.grad에 기울기가 누적됨을 알 수 있음!"
      ]
    },
    {
      "cell_type": "markdown",
      "metadata": {
        "id": "I_paSWGs1-sz"
      },
      "source": [
        "이처럼 앞서 정의내린 tensor가 포함된 채로 back propagation이 수행되면 계속 기울기가 누적된다. 만약 'requres_grad = True'를 포함시켜 'x'라는 tensor을 만들었다고 해보자.\n",
        "이때 x을 활용한 새로운 연산을 해보고 싶은데 gradient에는 반영하고 싶지 않다면 어떻게 해야 할까? 기존에 정의내린 x을 지우고 다시 해야 할까?\n",
        "이럴 때 유용하게 사용할 수 있는 기능이 바로 with torch.no_grad()있다. (mynn 라이브러리에서는 'with mg.no_autodiff:'의 코드로 사용했었다.)\n",
        "<br> ->이 with 블록 안에 autograd을 수행하고 싶지 않은 연산을 포함시키면 된다. 이때 gradient을 출력해보면 'None'이 뜨는 것을 확인할 수 있다."
      ]
    },
    {
      "cell_type": "code",
      "execution_count": null,
      "metadata": {
        "id": "a7j3yciI1-sz"
      },
      "outputs": [],
      "source": [
        "x = torch.ones(1,requires_grad=True)\n",
        "with torch.no_grad():\n",
        "    y = x * 2\n",
        "    print(y.grad)"
      ]
    },
    {
      "cell_type": "markdown",
      "metadata": {
        "id": "C-gMWs-P1-sz"
      },
      "source": [
        "### Dataset and loader\n",
        "신경망 학습을 위해선 데이터셋을 불러오고 이를 load하는 작업이 필수적이다. mynn 실습 9에서 MNIST dataset을 불러왔을 때에는\n",
        "<b>\n",
        "<br>\n",
        "from datasets import load_mnist, download_mnist\n",
        "download_mnist()\n",
        "</br>\n",
        "</b>\n",
        "을 이용했을 거다. mynn에서는 dataset을 불러올 때 편했지만 실제 torch에서는 다소 복잡한 방식으로 데이터셋을 불러오는 과정이 구현된다."
      ]
    },
    {
      "cell_type": "code",
      "execution_count": 1,
      "metadata": {
        "id": "GApRhBuc1-s0"
      },
      "outputs": [],
      "source": [
        "import csv # 학습된 신경망을 불러올 때는 주로 csv 파일을 불러옵니다. 혹은 dataset이 csv인 경우도 있다. \n",
        "# 이번 실습에서는 npz의 dataset을 사용하기 때문에 import csv 부분이 필요하지는 않으나 신경망 학습에서는 거의 필수적이니 기억해두자!\n",
        "import pandas as pd\n",
        "import matplotlib.pyplot as plt\n",
        "\n",
        "from torchvision import datasets\n",
        "from torchvision.transforms import ToTensor\n",
        "\n",
        "from torch.utils.data import Dataset\n",
        "from torch.utils.data import DataLoader\n",
        "\n",
        "# Dataset에는 각 데이터 및 그에 대한 label, 정답이 저장되어 있음\n",
        "# DataLoader는 이 dataset의 데이터를 쉽게 불러오는 역할(학습할 때 학습용 데이터를 불러오는 등)"
      ]
    },
    {
      "cell_type": "code",
      "source": [
        ""
      ],
      "metadata": {
        "id": "LVUxM6pW9jo-"
      },
      "execution_count": null,
      "outputs": []
    },
    {
      "cell_type": "code",
      "execution_count": null,
      "metadata": {
        "id": "yfa2vrEP1-s0",
        "colab": {
          "base_uri": "https://localhost:8080/",
          "height": 439,
          "referenced_widgets": [
            "68f78c61fa7642c4b6d8a77b7b17b497",
            "7f4c66c8c5fe4b1288147392e54c042a",
            "a8a273d8dd4240cdacdec544d8e719bd",
            "a21d6d4c3f23418faa2a8576c328ee51",
            "ac3d8e631e5844ad994321f004bd3a84",
            "02a55d633046452991389c4c45d78126",
            "728b1f1e982f48609aff30ef1985ebd0",
            "aac71b4763a749e6ac8bee1284ae01e4",
            "dbc9b385dc2c46968c4bcd39b23deb02",
            "7a10b936f7134530985658d77626a078",
            "59d0a04f4b7142f386790abadc59ef85",
            "b9135b0ca6bc4d5da25d8c86f309c88e",
            "0473d87556ae40309f21e9c98fd04885",
            "e59e7e7efaa24852a162dec01599274e",
            "b2300857b27a42f3b7391ce0853d9d56",
            "896ebff3f913462283deccb711831e28",
            "52360d47b6144f4f832f926daac81e3d",
            "2bb11f79847a40c4ba995d88385efa90",
            "b9b6c717d02f4284975dda69b31927b0",
            "fb6e05bc7fcb48afb63dc0c93587ab74",
            "5d108cd5115b4c14837e5a131727f44b",
            "83f6fb9f0b3e455796be392906831946",
            "16682beac896483d9caf365a379e7852",
            "bcea4e1d29734a2986dbd4750e9aa712",
            "794171103274410dbf47dc9e0c186425",
            "12c539e58330496f8e8a78d626f6fa80",
            "326af930b611405c9c2e6f4ad90ead88",
            "c7ab7ed1ee79478695ca3619044ad23d",
            "1057c26d397642309acffae2a9685750",
            "96fd0835d6d84879b73a74076a836640",
            "048ae98f21914dcf96e8fa794e284adf",
            "b1a6cc389fcf4f6f96453d5d0f438c0c",
            "c9df912c08c144ceb9193167f206a9b6",
            "625c569f4c0c43b3afaf4a782ccc1db0",
            "398850d993c14e30a4cf86e91e2c513a",
            "a6133374e2b3401b84778a9a53916baf",
            "3e9fa5f19cd242e583681cfc3537f81f",
            "90688a091a664a02bf90a0992b1d0c43",
            "ee75cff569d94672ac2b22f64c1cfc8c",
            "80e9a5d4cde54547b4f4790b7c1b75da",
            "d5480f49d3574bd49e82b1d7b19f4ef4",
            "642ecc2efbf540b69b5232e52f23625c",
            "233c0c7582ab4fc2a876ee5112a3459d",
            "1555f5debccd4a56baf17faafaf33d7c"
          ]
        },
        "outputId": "61284f4b-8b4d-4f63-a2ab-08857609722b"
      },
      "outputs": [
        {
          "output_type": "stream",
          "name": "stdout",
          "text": [
            "Downloading http://yann.lecun.com/exdb/mnist/train-images-idx3-ubyte.gz\n",
            "Downloading http://yann.lecun.com/exdb/mnist/train-images-idx3-ubyte.gz to /Temp/MNIST/raw/train-images-idx3-ubyte.gz\n"
          ]
        },
        {
          "output_type": "display_data",
          "data": {
            "text/plain": [
              "  0%|          | 0/9912422 [00:00<?, ?it/s]"
            ],
            "application/vnd.jupyter.widget-view+json": {
              "version_major": 2,
              "version_minor": 0,
              "model_id": "68f78c61fa7642c4b6d8a77b7b17b497"
            }
          },
          "metadata": {}
        },
        {
          "output_type": "stream",
          "name": "stdout",
          "text": [
            "Extracting /Temp/MNIST/raw/train-images-idx3-ubyte.gz to /Temp/MNIST/raw\n",
            "\n",
            "Downloading http://yann.lecun.com/exdb/mnist/train-labels-idx1-ubyte.gz\n",
            "Downloading http://yann.lecun.com/exdb/mnist/train-labels-idx1-ubyte.gz to /Temp/MNIST/raw/train-labels-idx1-ubyte.gz\n"
          ]
        },
        {
          "output_type": "display_data",
          "data": {
            "text/plain": [
              "  0%|          | 0/28881 [00:00<?, ?it/s]"
            ],
            "application/vnd.jupyter.widget-view+json": {
              "version_major": 2,
              "version_minor": 0,
              "model_id": "b9135b0ca6bc4d5da25d8c86f309c88e"
            }
          },
          "metadata": {}
        },
        {
          "output_type": "stream",
          "name": "stdout",
          "text": [
            "Extracting /Temp/MNIST/raw/train-labels-idx1-ubyte.gz to /Temp/MNIST/raw\n",
            "\n",
            "Downloading http://yann.lecun.com/exdb/mnist/t10k-images-idx3-ubyte.gz\n",
            "Downloading http://yann.lecun.com/exdb/mnist/t10k-images-idx3-ubyte.gz to /Temp/MNIST/raw/t10k-images-idx3-ubyte.gz\n"
          ]
        },
        {
          "output_type": "display_data",
          "data": {
            "text/plain": [
              "  0%|          | 0/1648877 [00:00<?, ?it/s]"
            ],
            "application/vnd.jupyter.widget-view+json": {
              "version_major": 2,
              "version_minor": 0,
              "model_id": "16682beac896483d9caf365a379e7852"
            }
          },
          "metadata": {}
        },
        {
          "output_type": "stream",
          "name": "stdout",
          "text": [
            "Extracting /Temp/MNIST/raw/t10k-images-idx3-ubyte.gz to /Temp/MNIST/raw\n",
            "\n",
            "Downloading http://yann.lecun.com/exdb/mnist/t10k-labels-idx1-ubyte.gz\n",
            "Downloading http://yann.lecun.com/exdb/mnist/t10k-labels-idx1-ubyte.gz to /Temp/MNIST/raw/t10k-labels-idx1-ubyte.gz\n"
          ]
        },
        {
          "output_type": "display_data",
          "data": {
            "text/plain": [
              "  0%|          | 0/4542 [00:00<?, ?it/s]"
            ],
            "application/vnd.jupyter.widget-view+json": {
              "version_major": 2,
              "version_minor": 0,
              "model_id": "625c569f4c0c43b3afaf4a782ccc1db0"
            }
          },
          "metadata": {}
        },
        {
          "output_type": "stream",
          "name": "stdout",
          "text": [
            "Extracting /Temp/MNIST/raw/t10k-labels-idx1-ubyte.gz to /Temp/MNIST/raw\n",
            "\n"
          ]
        }
      ],
      "source": [
        "# CNN 실습 9에서 사용한 mnist.npz 파일을 사용하였다.\n",
        "# 학습용 데이터와 테스트용 데이터를 따로 불러온다.\n",
        "\n",
        "train_data = datasets.MNIST(\n",
        "    root=\"/Temp\", # 경로(***본인이 다운로드 받은 경로로 설정)\n",
        "    train=True,\n",
        "    download=True,\n",
        "    transform=ToTensor() # 데이터를 tensor로 바꿔주는 코드\n",
        ")\n",
        "test_data = datasets.MNIST(\n",
        "    root=\"/Temp\",\n",
        "    train=False,\n",
        "    download=True,\n",
        "    transform=ToTensor()\n",
        ")"
      ]
    },
    {
      "cell_type": "markdown",
      "metadata": {
        "id": "nQlFQOpZ1-s0"
      },
      "source": [
        "transform = ToTensor()\n",
        "여기서의 transform을 말그대로 무엇인가를 변형한다는 의미를 담고 있다. 이때 우리는 image dataset을 사용하고 있으므로 이 이미지를 tensor로 바꿔주는 작업이 필요하다. 앞서 공부한 autograd만 봐도 tensor에서 자동미분 기능을 실행하고 있었다. 이 기능을 포함해 신경망 학습을 위해선 결국 이미지, 오디오 등의 정보를 Pytorch가 처리할 수 있는 tensor로 바꿔주어야 한다. 데이터를 불러올 때 transform 기능을 명시해주는 것이 필수적인 이유이다."
      ]
    },
    {
      "cell_type": "markdown",
      "metadata": {
        "id": "zhc5Gng3lADi"
      },
      "source": [
        "이제 앞서 import한 DataLoader을 이용해 각각의 train, test data에 대한 dataloader을 만들어준다."
      ]
    },
    {
      "cell_type": "code",
      "execution_count": null,
      "metadata": {
        "id": "Qjuw2FlCk7Eg"
      },
      "outputs": [],
      "source": [
        "train_dataloader = DataLoader(train_data, batch_size=64, shuffle=True)\n",
        "test_dataloader = DataLoader(test_data, batch_size=64, shuffle=True)"
      ]
    },
    {
      "cell_type": "markdown",
      "metadata": {
        "id": "H-7KTfUGlCAy"
      },
      "source": [
        "학습에 필요한 데이터셋의 준비는 마쳤으니 데이터셋이 어떻게 구성되어 있는지 한번 확인하고 넘어가보려 한다. 데이터셋은 총 10개 숫자에 대한 데이터셋이며 이 데이터셋을 이루는 데이터를 임의로 뽑아 그래프에 plot하여 데이터셋을 들여다보자."
      ]
    },
    {
      "cell_type": "code",
      "execution_count": null,
      "metadata": {
        "id": "z4293IP91-s0"
      },
      "outputs": [],
      "source": [
        "figure = plt.figure() # 데이터셋을 showing할 공간 만들기\n",
        "column, row = 4, 4 # 본인이 데이터셋을 들여다 보고 싶은 만큼 행과 열을 조절할 수 있다.\n",
        "title = {\n",
        "    0: \"0\",\n",
        "    1: \"1\",\n",
        "    2: \"2\",\n",
        "    3: \"3\",\n",
        "    4: \"4\",\n",
        "    5: \"5\",\n",
        "    6: \"6\",\n",
        "    7: \"7\",\n",
        "    8: \"8\",\n",
        "    9: \"9\",\n",
        "}\n",
        "\n",
        "for i in range(1, column * row + 1):\n",
        "    # pick\n",
        "    idx = torch.randint(len(train_data), (1,)).item() # train_data를 이루는 데이터의 index를 랜덤하게 뽑아 1차원 벡터로 만듦.\n",
        "    img, label = train_data[idx] # idx 번째의 train_data는 image와 label(정답)로 이루어져있으므로 img, label로 분리\n",
        "    \n",
        "    # show\n",
        "    figure.add_subplot(row, column, i) # add_subplot(nrows, ncols, index, **kwargs)의 함수 사용\n",
        "    plt.title(title[label]) # 사진 위에 라벨 띄워줌\n",
        "    plt.axis(\"off\") # 깔끔하게\n",
        "    \n",
        "    plt.imshow(img.squeeze()) # squeeze()를 해주지 않으면 img.shape = (1,28,28)이므로 show()를 하지 못하고 에러 발생 --> 1차원을 없애주기위해 squeeze()를 해줌.\n",
        "    # print(img.shape) -> torch.Size([1,28.28])\n",
        "    # print((img.squeeze()).shape) -> torch.Size([28,28])"
      ]
    },
    {
      "cell_type": "markdown",
      "metadata": {
        "id": "hFBTqCvoeqnc"
      },
      "source": [
        "이번 실습의 경우 데이터셋을 한꺼번에 불러와서 학습을 진행해도 큰 무리가 없으나 세상에는 용량이 어마무시한 데이터셋들이 많다. 이 경우에는 일반적으로 Customdataset class을 만들어서 데이터를 하나씩 불러오도록 하는데, 이때 class을 구성하는 함수에 대해 잠시 짚고 넘어가보자."
      ]
    },
    {
      "cell_type": "markdown",
      "metadata": {
        "id": "v_M6Sl7JqnT0"
      },
      "source": [
        "class CustomDataset은 총 3개의 함수로 구성되어 있다. \n",
        "<br> \n",
        "1. def __init__(self,csv_file, path, data_transform=None, label_transform=None) <br>\n",
        "먼저 클래스가 실행될 때 자동으로 호출되는 생성자(constructor)의 역할을 하는 __init__ 함수이다. 여기에는 input으로 들어온 변수인 '파일명, 경로, data_transform 여부, label_transform 여부' 의 정보를 self로 넘겨주어 초기화해주는 역할을 하는 함수이다. 앞서 datasets.MNIST()에서 정의내렸던 방식을 클래스 내 함수로 표현해주었다고 이해하면 좋다.\n",
        "<br>\n",
        "2. def __len__(self)<br>\n",
        " 데이터의 size을 리턴하도록 한다.\n",
        "<br>\n",
        "3. def __getitem__(self,index)<br>\n",
        "이름 그대로 item을 얻는 함수이며 input에 index을 넣어주면 그 index의 데이터를 불러오는 함수이다. 앞서 __init__ 함수에서 지정한 transform 여부를 확인한 후, (MNIST 데이터셋의 경우) image와 label의 transform을 진행하는 코드 또한 포함한다.\n",
        "\n"
      ]
    },
    {
      "cell_type": "code",
      "execution_count": null,
      "metadata": {
        "id": "BXbIS5Z71-s1"
      },
      "outputs": [],
      "source": [
        "import os\n",
        "from torchvision.io import read_image\n",
        "\n",
        "class CustomDataset(Dataset):\n",
        "    def __init__(self, csv_file, path, data_transform=None, label_transform=None): \n",
        "        # 클래스의 생성자(constructor)로 자동 호출되는 init 함수\n",
        "        # 데이터의 전처리\n",
        "        self.labels = pd.read_csv(csv_file, names=['file_name', 'label'])\n",
        "        self.path = path\n",
        "        self.data_transform = data_transform\n",
        "        self.label_transform = label_transform\n",
        "\n",
        "    def __len__(self):\n",
        "        return len(self.labels)\n",
        "\n",
        "    def __getitem__(self, index):\n",
        "        img_path = os.path.join(self.path, self.labels.iloc[index, 0])\n",
        "        img = read_image(img_path)\n",
        "        label = self.img_labels.iloc[index, 1]\n",
        "        if self.data_transform:\n",
        "            img = self.data_transform(img)\n",
        "        if self.label_transform:\n",
        "            label = self.label_transform(label)\n",
        "        return img, label"
      ]
    },
    {
      "cell_type": "markdown",
      "metadata": {
        "id": "cpVfifAvFfEP"
      },
      "source": [
        "이후 DataLoader(dataset = CustomDataset(), batch_size = 64, shuffle = True)로 데이터셋을 불러오면 완성!"
      ]
    },
    {
      "cell_type": "markdown",
      "metadata": {
        "id": "QhRnUl_z1-s1"
      },
      "source": [
        "## 2. Train CNN with MNIST dataset in PyTorch settings"
      ]
    },
    {
      "cell_type": "markdown",
      "metadata": {
        "id": "GH0rghss1-s1"
      },
      "source": [
        "이제 본격적으로 신경망을 학습하는 방법을 배워볼 것이다. 실습 9에서 mynn 라이브러리로 진행했던 MNISt 데이터셋을 활용한 분류 실습을 그대로 진행해볼 것이므로 각 layer에 대한 정보는 책을 참고하시면 된다. 다만 mynn 라이브러리와 Pytorch 라이브러리에서 지원하는 layer와 그 사용 방법에 차이가 있으므로 잘 숙지하고 따라오면 될 것 같다.<br><br>\n",
        "신경망 학습을 위해 앞에서 MNIST 데이터셋을 잘 불러왔고 그 데이터셋이 어떤 데이터로 이루어져있는지까지 확인해보았다. 이제 신경망을 구성하는 층을 쌓고 최적화를 진행하기 위해 Pytorch에 내장된 nn과 optim을 불러와야 한다. 기존 mynn에서는 서로 다른 종류의 층을 쌓기 위해선 아래와 같이 모두 import 해주어야 했다.\n",
        "<br>\n",
        "<br>\n",
        "<b>\n",
        "\"\n",
        "from mynn.layers.conv import conv</br>\n",
        "from mynn.layers.dense import dense</br>\n",
        "from mygrad.nnet.initializers import glorot_uniform</br>\n",
        "from mygrad.nnet.activations import relu</br>\n",
        "from mygrad.nnet.layers import max_pool\n",
        "from mynn.optimizers.sgd import SGD\n",
        "from mygrad.nnet.losses import softmax_crossentropy...\n",
        "\"\n",
        "</b>\n",
        "</br>\n",
        "<br>\n",
        "Pytorch는 그럴 필요가 없다. torch.nn에는 convolutional, pooling, padding, dropout layer등 우리가 신경망을 구성할 때 사용할 수 있는 모든 layer을 지원하고, torch.optim에서는 SGD, Adam처럼 우리에게 익숙한 최적화 기법을 제공한다. 따라서 있는 기능을 잘 활용하기만 하면 된다!\n",
        "<br>\n",
        "<br>+) torch.nn.init에서는 ReLU, Sigmoid, Conv{1,2,3}D 등의 비선형 함수를 지원한다. 더불어 초기화 기법 중 하나인 glorot_uniform 또한 제공한다. 이를 정의하고 실행하는 방법은 모두 'https://pytorch.org/docs/stable/nn.init.html' 에 명시되어 있으니 참고하길 바란다.\n",
        "\n",
        "<br>\n"
      ]
    },
    {
      "cell_type": "markdown",
      "metadata": {
        "id": "6yI89iJWg2Tn"
      },
      "source": [
        "이 실습에서 사용해야 할 계층에는 <b>'완전연결계층(fully connected layer)'</b>이 있다. 말 그대로 층과 층을 이루는 뉴런들이 모두 서로 연결되어 있다는 의미를 갖고 있다. 그렇기 때문에 우리는 이 완전연결계층에 데이터를 넣어 학습시켜주기전에 다차원의 배열을 1차원으로 펴줄(flattening data) 필요가 있다. Flattening을 해야 한다는 사실을 기억하면서 층을 쌓아가보도록 하자!\n",
        "<br>\n",
        "\n",
        "* 힌트: 클래스 내에는 클래스가 실행될 때 자동으로 호출되는 생성자(constructor)인 init 함수를 구현해주어야 한다. init 함수에 더불어 여러분이 쌓은 층을 통해 데이터를 학습할 수 있도록 하는 함수를 구현해주어야 한다. 각 함수에 어떤 내용이 들어가야할지 고민해보자"
      ]
    },
    {
      "cell_type": "code",
      "execution_count": null,
      "metadata": {
        "id": "FBQFyXQf1-s2"
      },
      "outputs": [],
      "source": [
        "import torch.nn as nn # 신경망 구성 layer\n",
        "import torch.optim as optim # 최적화 기법\n",
        "import torch.nn.init # 초기화 기법\n",
        "import torch.nn.functional as F # Fully-connected layer을 사용하기 위해\n",
        "\n",
        "# torch.nn.Linear(input sample.size(), output sample.size(), bias = True, device = None, dtype =None) data를 선형 변환하며 bias는 True가 default\n",
        "# torch.nn.ReLu()\n",
        "class CNN(nn.Module):\n",
        "    def __init__(self): # 파이썬에서 클래스의 생성자(constructor)에 해당하는 init 함수로, 클래스가 호출되면 자동으로 호출.\n",
        "        \n",
        "        super(CNN, self).__init__()\n",
        "\n",
        "        # todo code\n",
        "       \n",
        "    \n",
        "\n",
        "\n",
        "\n",
        "\n",
        "        # 참고)  # self.combination = nn.Sequential(\n",
        "                 #    nn.Linear(256, 64),\n",
        "                 #    nn.ReLU(), # activation 함수로 ReLU 선택\n",
        "                 #    nn.Linear(64, 10),\n",
        "                 #) 이런식으로 하나의 조합으로 nn.Sequential()에 묶어 사용할 수도 있다.\n",
        "\n",
        "    def forward(self, x):\n",
        "       \n",
        "        # todo code\n",
        "     \n",
        "        \n",
        "        return\n",
        "       \n",
        "\n",
        "\n",
        "\n",
        "\n",
        "\n",
        "\n",
        "\n",
        "\n",
        "\n",
        "\n",
        "\n",
        "\n"
      ]
    },
    {
      "cell_type": "markdown",
      "metadata": {
        "id": "Ovu4tKma1-s2"
      },
      "source": [
        "모델을 생성했으니 이제 본격적으로 learning rate, epoch, batch size의 hyperparameter을 설정하여 최적화를 하면서 학습을 진행하고, 이때 손실함수(loss function)와 옵티마이저(optimizer, e.g. Adam, SGD)을 사용해볼 것이다."
      ]
    },
    {
      "cell_type": "code",
      "execution_count": null,
      "metadata": {
        "id": "PxdNTYlf1-s2"
      },
      "outputs": [],
      "source": [
        "model = CNN() # 모델 instantiation for training\n",
        "\n",
        "# 모델 학습 파라미터 지정 # todo code\n",
        "learning_rate = 0.01 # 무조건 작다고 좋지 않다.\n",
        "batch_size = 64 # 전체 데이터 수에 비해 작은 값을 설정하면 한 epoch당 소요되는 시간이 늘어난다.\n",
        "epochs = 10"
      ]
    },
    {
      "cell_type": "code",
      "execution_count": null,
      "metadata": {
        "id": "7dmV0LzR1-s2"
      },
      "outputs": [],
      "source": [
        "# 손실 함수 정의\n",
        "# mynn 라이브러리를 사용한 머신러닝 실습 9에서는 'from mygrad.nnet.losses import softmax_crossentropy'로 불러왔다.\n",
        "lossfunc = nn.CrossEntropyLoss() "
      ]
    },
    {
      "cell_type": "code",
      "execution_count": null,
      "metadata": {
        "id": "IW5ct8zC1-s3"
      },
      "outputs": [],
      "source": [
        "# 옵티마이저 정의\n",
        "optimizer = torch.optim.SGD(model.parameters(), lr=learning_rate) \n",
        "# 거의 공식처럼 많이 사용하는 구문으로 model.parameters()는 모델이 학습하면서 내놓은 매개변수를 반환하며\n",
        "# 이 파라미터를 계속 최적화해나가는 것이 옵티마이저(optimizer)의 역할이다.\n",
        "# mynn에서는 함수를 새로 짜서 'def parameters(self):'로 매개변수를 불러왔지만 Pytorch는 이 함수를 .parameters() 함수로 지원한다!"
      ]
    },
    {
      "cell_type": "code",
      "execution_count": null,
      "metadata": {
        "id": "fZy_O2g61-s3",
        "colab": {
          "base_uri": "https://localhost:8080/"
        },
        "outputId": "254d9a22-ea73-45b8-ce6b-7b27e5177375"
      },
      "outputs": [
        {
          "output_type": "stream",
          "name": "stdout",
          "text": [
            "[Epoch 1] loss: 0.351, acc: 91.81\n",
            "[Epoch 2] loss: 0.228, acc: 94.66\n",
            "[Epoch 3] loss: 0.171, acc: 95.98\n",
            "[Epoch 4] loss: 0.137, acc: 96.13\n",
            "[Epoch 5] loss: 0.117, acc: 97.03\n",
            "[Epoch 6] loss: 0.103, acc: 97.04\n",
            "[Epoch 7] loss: 0.093, acc: 97.35\n",
            "[Epoch 8] loss: 0.085, acc: 97.74\n",
            "[Epoch 9] loss: 0.078, acc: 97.84\n",
            "[Epoch 10] loss: 0.073, acc: 97.87\n"
          ]
        }
      ],
      "source": [
        "# 아래 부분은 거의 모든 코드에서 규칙처럼 사용하는 부분이라 todo code로 두고 구글링해서 충분히 작성 가능\n",
        "for epoch in range(epochs):\n",
        "    train_loss = 0\n",
        "\n",
        "    for i, traindata in enumerate(train_dataloader):\n",
        "        x, label = traindata # MNIST 데이터에는 정보와 labeling이 있었으므로 각각을 x와 label로 분리해준다.\n",
        "\n",
        "        # mynn 실습에서는 xavier_glorot normal 초기화 기법을 layer와 함께 정의해주었는데\n",
        "        # , Pytorch에서 CNN 학습에서는 주로 optimizer.zero_grad()을 통해 모델 전체의 gradient을 초기화해준다.\n",
        "        # todo code\n",
        "        optimizer.zero_grad()\n",
        "\n",
        "        # x 데이터를 이제 학습시키기 위해 forward 함수를 실행한다.\n",
        "        # forward propagation(순전파)\n",
        "        # todo code\n",
        "        forward = model(x)\n",
        "        \n",
        "        # 앞서 정의한 손실함수를 정의하며 forward를 지난 data와 label간 loss을 계산합니다. 이를 train_loss에 저장할 것이다.\n",
        "        # todo code\n",
        "        loss = lossfunc(forward, label)\n",
        "\n",
        "        # back propagation!!\n",
        "        # todo code\n",
        "        loss.backward()\n",
        "\n",
        "        # 매개변수를 매 step마다 업데이트 해준다.\n",
        "        # todo code\n",
        "        optimizer.step()\n",
        "        \n",
        "        train_loss += loss\n",
        "         \n",
        "    with torch.no_grad(): # 모델 성능을 평가하기 위한 코드이므로 autograd가 되지 않도록 설정.\n",
        "        correct = 0 # 맞은 개수 세기 위해 int 정의\n",
        "        total = 0 # 전체 실행 개수를 세서 정확도를 계산하기 위해 int 정의\n",
        "\n",
        "        for i,testdata in enumerate(test_dataloader):\n",
        "            y, label = testdata\n",
        "            pred = torch.argmax(model(y),dim=1)## todo code # 가장 높은 확률의 것을 prediction으로 반환.\n",
        "            correct += (label==pred).sum().item()## label과 prediction이 일치하는 개수 세기 \n",
        "            total += len(label)\n",
        "    print(\"[Epoch %d] loss: %.3f, acc: %.2f\" \\\n",
        "        % (epoch + 1, train_loss / len(train_dataloader), 100.*correct/total))# epoch별 loss와 정확도를 출력하는 코드를 작성\n",
        "    train_loss = 0 # 다음 epoch가 실행되기전 loss 초기화"
      ]
    },
    {
      "cell_type": "markdown",
      "metadata": {
        "id": "5FuluSgT1-s3"
      },
      "source": [
        "epochs가 진행됨에 따라 점차 정확도가 올라가는 것이 이상적이다. loss는 그럼 반대로 감소하는 방향으로 갈 것이다. Loss를 줄여 accuracy을 높이기 위해선 loss function을 적절하게 사용할 필요가 있다.\n",
        "Accuracy가 예상보다 너무 낮게 나오거나 증가하는 속도가 낮다면 층 수를 늘리거나, 채널 수를 바꾸거나 활성화 함수를 바꾸는 등 다양한 방법을 시도해보도록 하자!<br><br>\n",
        "\n",
        "Hint: 책과 완전히 동일한 상황이 아니므로 in, out 채널 수를 계산했던 공식을 떠올려보면서 파라미터를 변경해야 더 높은 정확도를 얻을 수 있다. (물론 책에서 한 그대로 집어넣어도 실행은 되므로 본인이 쓴 코드가 맞는지 확인하고 이후에 정확도를 높여보도록 하자)<br>층을 몇 개 쌓지 않아도 정확도는 97 그 이상까지 갈 수 있는 모델이다."
      ]
    }
  ],
  "metadata": {
    "colab": {
      "collapsed_sections": [],
      "name": "Pytorch_student.ipynb",
      "provenance": [],
      "include_colab_link": true
    },
    "kernelspec": {
      "display_name": "Python 3.9.7 ('base')",
      "language": "python",
      "name": "python3"
    },
    "language_info": {
      "codemirror_mode": {
        "name": "ipython",
        "version": 3
      },
      "file_extension": ".py",
      "mimetype": "text/x-python",
      "name": "python",
      "nbconvert_exporter": "python",
      "pygments_lexer": "ipython3",
      "version": "3.9.7"
    },
    "orig_nbformat": 4,
    "vscode": {
      "interpreter": {
        "hash": "0dcb4b512ae53fee7c8fa5b0e0f5a86bd2bac88fa33cb233985dc5ad36625cd1"
      }
    },
    "widgets": {
      "application/vnd.jupyter.widget-state+json": {
        "68f78c61fa7642c4b6d8a77b7b17b497": {
          "model_module": "@jupyter-widgets/controls",
          "model_name": "HBoxModel",
          "model_module_version": "1.5.0",
          "state": {
            "_dom_classes": [],
            "_model_module": "@jupyter-widgets/controls",
            "_model_module_version": "1.5.0",
            "_model_name": "HBoxModel",
            "_view_count": null,
            "_view_module": "@jupyter-widgets/controls",
            "_view_module_version": "1.5.0",
            "_view_name": "HBoxView",
            "box_style": "",
            "children": [
              "IPY_MODEL_7f4c66c8c5fe4b1288147392e54c042a",
              "IPY_MODEL_a8a273d8dd4240cdacdec544d8e719bd",
              "IPY_MODEL_a21d6d4c3f23418faa2a8576c328ee51"
            ],
            "layout": "IPY_MODEL_ac3d8e631e5844ad994321f004bd3a84"
          }
        },
        "7f4c66c8c5fe4b1288147392e54c042a": {
          "model_module": "@jupyter-widgets/controls",
          "model_name": "HTMLModel",
          "model_module_version": "1.5.0",
          "state": {
            "_dom_classes": [],
            "_model_module": "@jupyter-widgets/controls",
            "_model_module_version": "1.5.0",
            "_model_name": "HTMLModel",
            "_view_count": null,
            "_view_module": "@jupyter-widgets/controls",
            "_view_module_version": "1.5.0",
            "_view_name": "HTMLView",
            "description": "",
            "description_tooltip": null,
            "layout": "IPY_MODEL_02a55d633046452991389c4c45d78126",
            "placeholder": "​",
            "style": "IPY_MODEL_728b1f1e982f48609aff30ef1985ebd0",
            "value": "100%"
          }
        },
        "a8a273d8dd4240cdacdec544d8e719bd": {
          "model_module": "@jupyter-widgets/controls",
          "model_name": "FloatProgressModel",
          "model_module_version": "1.5.0",
          "state": {
            "_dom_classes": [],
            "_model_module": "@jupyter-widgets/controls",
            "_model_module_version": "1.5.0",
            "_model_name": "FloatProgressModel",
            "_view_count": null,
            "_view_module": "@jupyter-widgets/controls",
            "_view_module_version": "1.5.0",
            "_view_name": "ProgressView",
            "bar_style": "success",
            "description": "",
            "description_tooltip": null,
            "layout": "IPY_MODEL_aac71b4763a749e6ac8bee1284ae01e4",
            "max": 9912422,
            "min": 0,
            "orientation": "horizontal",
            "style": "IPY_MODEL_dbc9b385dc2c46968c4bcd39b23deb02",
            "value": 9912422
          }
        },
        "a21d6d4c3f23418faa2a8576c328ee51": {
          "model_module": "@jupyter-widgets/controls",
          "model_name": "HTMLModel",
          "model_module_version": "1.5.0",
          "state": {
            "_dom_classes": [],
            "_model_module": "@jupyter-widgets/controls",
            "_model_module_version": "1.5.0",
            "_model_name": "HTMLModel",
            "_view_count": null,
            "_view_module": "@jupyter-widgets/controls",
            "_view_module_version": "1.5.0",
            "_view_name": "HTMLView",
            "description": "",
            "description_tooltip": null,
            "layout": "IPY_MODEL_7a10b936f7134530985658d77626a078",
            "placeholder": "​",
            "style": "IPY_MODEL_59d0a04f4b7142f386790abadc59ef85",
            "value": " 9912422/9912422 [00:00&lt;00:00, 5213488.20it/s]"
          }
        },
        "ac3d8e631e5844ad994321f004bd3a84": {
          "model_module": "@jupyter-widgets/base",
          "model_name": "LayoutModel",
          "model_module_version": "1.2.0",
          "state": {
            "_model_module": "@jupyter-widgets/base",
            "_model_module_version": "1.2.0",
            "_model_name": "LayoutModel",
            "_view_count": null,
            "_view_module": "@jupyter-widgets/base",
            "_view_module_version": "1.2.0",
            "_view_name": "LayoutView",
            "align_content": null,
            "align_items": null,
            "align_self": null,
            "border": null,
            "bottom": null,
            "display": null,
            "flex": null,
            "flex_flow": null,
            "grid_area": null,
            "grid_auto_columns": null,
            "grid_auto_flow": null,
            "grid_auto_rows": null,
            "grid_column": null,
            "grid_gap": null,
            "grid_row": null,
            "grid_template_areas": null,
            "grid_template_columns": null,
            "grid_template_rows": null,
            "height": null,
            "justify_content": null,
            "justify_items": null,
            "left": null,
            "margin": null,
            "max_height": null,
            "max_width": null,
            "min_height": null,
            "min_width": null,
            "object_fit": null,
            "object_position": null,
            "order": null,
            "overflow": null,
            "overflow_x": null,
            "overflow_y": null,
            "padding": null,
            "right": null,
            "top": null,
            "visibility": null,
            "width": null
          }
        },
        "02a55d633046452991389c4c45d78126": {
          "model_module": "@jupyter-widgets/base",
          "model_name": "LayoutModel",
          "model_module_version": "1.2.0",
          "state": {
            "_model_module": "@jupyter-widgets/base",
            "_model_module_version": "1.2.0",
            "_model_name": "LayoutModel",
            "_view_count": null,
            "_view_module": "@jupyter-widgets/base",
            "_view_module_version": "1.2.0",
            "_view_name": "LayoutView",
            "align_content": null,
            "align_items": null,
            "align_self": null,
            "border": null,
            "bottom": null,
            "display": null,
            "flex": null,
            "flex_flow": null,
            "grid_area": null,
            "grid_auto_columns": null,
            "grid_auto_flow": null,
            "grid_auto_rows": null,
            "grid_column": null,
            "grid_gap": null,
            "grid_row": null,
            "grid_template_areas": null,
            "grid_template_columns": null,
            "grid_template_rows": null,
            "height": null,
            "justify_content": null,
            "justify_items": null,
            "left": null,
            "margin": null,
            "max_height": null,
            "max_width": null,
            "min_height": null,
            "min_width": null,
            "object_fit": null,
            "object_position": null,
            "order": null,
            "overflow": null,
            "overflow_x": null,
            "overflow_y": null,
            "padding": null,
            "right": null,
            "top": null,
            "visibility": null,
            "width": null
          }
        },
        "728b1f1e982f48609aff30ef1985ebd0": {
          "model_module": "@jupyter-widgets/controls",
          "model_name": "DescriptionStyleModel",
          "model_module_version": "1.5.0",
          "state": {
            "_model_module": "@jupyter-widgets/controls",
            "_model_module_version": "1.5.0",
            "_model_name": "DescriptionStyleModel",
            "_view_count": null,
            "_view_module": "@jupyter-widgets/base",
            "_view_module_version": "1.2.0",
            "_view_name": "StyleView",
            "description_width": ""
          }
        },
        "aac71b4763a749e6ac8bee1284ae01e4": {
          "model_module": "@jupyter-widgets/base",
          "model_name": "LayoutModel",
          "model_module_version": "1.2.0",
          "state": {
            "_model_module": "@jupyter-widgets/base",
            "_model_module_version": "1.2.0",
            "_model_name": "LayoutModel",
            "_view_count": null,
            "_view_module": "@jupyter-widgets/base",
            "_view_module_version": "1.2.0",
            "_view_name": "LayoutView",
            "align_content": null,
            "align_items": null,
            "align_self": null,
            "border": null,
            "bottom": null,
            "display": null,
            "flex": null,
            "flex_flow": null,
            "grid_area": null,
            "grid_auto_columns": null,
            "grid_auto_flow": null,
            "grid_auto_rows": null,
            "grid_column": null,
            "grid_gap": null,
            "grid_row": null,
            "grid_template_areas": null,
            "grid_template_columns": null,
            "grid_template_rows": null,
            "height": null,
            "justify_content": null,
            "justify_items": null,
            "left": null,
            "margin": null,
            "max_height": null,
            "max_width": null,
            "min_height": null,
            "min_width": null,
            "object_fit": null,
            "object_position": null,
            "order": null,
            "overflow": null,
            "overflow_x": null,
            "overflow_y": null,
            "padding": null,
            "right": null,
            "top": null,
            "visibility": null,
            "width": null
          }
        },
        "dbc9b385dc2c46968c4bcd39b23deb02": {
          "model_module": "@jupyter-widgets/controls",
          "model_name": "ProgressStyleModel",
          "model_module_version": "1.5.0",
          "state": {
            "_model_module": "@jupyter-widgets/controls",
            "_model_module_version": "1.5.0",
            "_model_name": "ProgressStyleModel",
            "_view_count": null,
            "_view_module": "@jupyter-widgets/base",
            "_view_module_version": "1.2.0",
            "_view_name": "StyleView",
            "bar_color": null,
            "description_width": ""
          }
        },
        "7a10b936f7134530985658d77626a078": {
          "model_module": "@jupyter-widgets/base",
          "model_name": "LayoutModel",
          "model_module_version": "1.2.0",
          "state": {
            "_model_module": "@jupyter-widgets/base",
            "_model_module_version": "1.2.0",
            "_model_name": "LayoutModel",
            "_view_count": null,
            "_view_module": "@jupyter-widgets/base",
            "_view_module_version": "1.2.0",
            "_view_name": "LayoutView",
            "align_content": null,
            "align_items": null,
            "align_self": null,
            "border": null,
            "bottom": null,
            "display": null,
            "flex": null,
            "flex_flow": null,
            "grid_area": null,
            "grid_auto_columns": null,
            "grid_auto_flow": null,
            "grid_auto_rows": null,
            "grid_column": null,
            "grid_gap": null,
            "grid_row": null,
            "grid_template_areas": null,
            "grid_template_columns": null,
            "grid_template_rows": null,
            "height": null,
            "justify_content": null,
            "justify_items": null,
            "left": null,
            "margin": null,
            "max_height": null,
            "max_width": null,
            "min_height": null,
            "min_width": null,
            "object_fit": null,
            "object_position": null,
            "order": null,
            "overflow": null,
            "overflow_x": null,
            "overflow_y": null,
            "padding": null,
            "right": null,
            "top": null,
            "visibility": null,
            "width": null
          }
        },
        "59d0a04f4b7142f386790abadc59ef85": {
          "model_module": "@jupyter-widgets/controls",
          "model_name": "DescriptionStyleModel",
          "model_module_version": "1.5.0",
          "state": {
            "_model_module": "@jupyter-widgets/controls",
            "_model_module_version": "1.5.0",
            "_model_name": "DescriptionStyleModel",
            "_view_count": null,
            "_view_module": "@jupyter-widgets/base",
            "_view_module_version": "1.2.0",
            "_view_name": "StyleView",
            "description_width": ""
          }
        },
        "b9135b0ca6bc4d5da25d8c86f309c88e": {
          "model_module": "@jupyter-widgets/controls",
          "model_name": "HBoxModel",
          "model_module_version": "1.5.0",
          "state": {
            "_dom_classes": [],
            "_model_module": "@jupyter-widgets/controls",
            "_model_module_version": "1.5.0",
            "_model_name": "HBoxModel",
            "_view_count": null,
            "_view_module": "@jupyter-widgets/controls",
            "_view_module_version": "1.5.0",
            "_view_name": "HBoxView",
            "box_style": "",
            "children": [
              "IPY_MODEL_0473d87556ae40309f21e9c98fd04885",
              "IPY_MODEL_e59e7e7efaa24852a162dec01599274e",
              "IPY_MODEL_b2300857b27a42f3b7391ce0853d9d56"
            ],
            "layout": "IPY_MODEL_896ebff3f913462283deccb711831e28"
          }
        },
        "0473d87556ae40309f21e9c98fd04885": {
          "model_module": "@jupyter-widgets/controls",
          "model_name": "HTMLModel",
          "model_module_version": "1.5.0",
          "state": {
            "_dom_classes": [],
            "_model_module": "@jupyter-widgets/controls",
            "_model_module_version": "1.5.0",
            "_model_name": "HTMLModel",
            "_view_count": null,
            "_view_module": "@jupyter-widgets/controls",
            "_view_module_version": "1.5.0",
            "_view_name": "HTMLView",
            "description": "",
            "description_tooltip": null,
            "layout": "IPY_MODEL_52360d47b6144f4f832f926daac81e3d",
            "placeholder": "​",
            "style": "IPY_MODEL_2bb11f79847a40c4ba995d88385efa90",
            "value": "100%"
          }
        },
        "e59e7e7efaa24852a162dec01599274e": {
          "model_module": "@jupyter-widgets/controls",
          "model_name": "FloatProgressModel",
          "model_module_version": "1.5.0",
          "state": {
            "_dom_classes": [],
            "_model_module": "@jupyter-widgets/controls",
            "_model_module_version": "1.5.0",
            "_model_name": "FloatProgressModel",
            "_view_count": null,
            "_view_module": "@jupyter-widgets/controls",
            "_view_module_version": "1.5.0",
            "_view_name": "ProgressView",
            "bar_style": "success",
            "description": "",
            "description_tooltip": null,
            "layout": "IPY_MODEL_b9b6c717d02f4284975dda69b31927b0",
            "max": 28881,
            "min": 0,
            "orientation": "horizontal",
            "style": "IPY_MODEL_fb6e05bc7fcb48afb63dc0c93587ab74",
            "value": 28881
          }
        },
        "b2300857b27a42f3b7391ce0853d9d56": {
          "model_module": "@jupyter-widgets/controls",
          "model_name": "HTMLModel",
          "model_module_version": "1.5.0",
          "state": {
            "_dom_classes": [],
            "_model_module": "@jupyter-widgets/controls",
            "_model_module_version": "1.5.0",
            "_model_name": "HTMLModel",
            "_view_count": null,
            "_view_module": "@jupyter-widgets/controls",
            "_view_module_version": "1.5.0",
            "_view_name": "HTMLView",
            "description": "",
            "description_tooltip": null,
            "layout": "IPY_MODEL_5d108cd5115b4c14837e5a131727f44b",
            "placeholder": "​",
            "style": "IPY_MODEL_83f6fb9f0b3e455796be392906831946",
            "value": " 28881/28881 [00:00&lt;00:00, 562772.68it/s]"
          }
        },
        "896ebff3f913462283deccb711831e28": {
          "model_module": "@jupyter-widgets/base",
          "model_name": "LayoutModel",
          "model_module_version": "1.2.0",
          "state": {
            "_model_module": "@jupyter-widgets/base",
            "_model_module_version": "1.2.0",
            "_model_name": "LayoutModel",
            "_view_count": null,
            "_view_module": "@jupyter-widgets/base",
            "_view_module_version": "1.2.0",
            "_view_name": "LayoutView",
            "align_content": null,
            "align_items": null,
            "align_self": null,
            "border": null,
            "bottom": null,
            "display": null,
            "flex": null,
            "flex_flow": null,
            "grid_area": null,
            "grid_auto_columns": null,
            "grid_auto_flow": null,
            "grid_auto_rows": null,
            "grid_column": null,
            "grid_gap": null,
            "grid_row": null,
            "grid_template_areas": null,
            "grid_template_columns": null,
            "grid_template_rows": null,
            "height": null,
            "justify_content": null,
            "justify_items": null,
            "left": null,
            "margin": null,
            "max_height": null,
            "max_width": null,
            "min_height": null,
            "min_width": null,
            "object_fit": null,
            "object_position": null,
            "order": null,
            "overflow": null,
            "overflow_x": null,
            "overflow_y": null,
            "padding": null,
            "right": null,
            "top": null,
            "visibility": null,
            "width": null
          }
        },
        "52360d47b6144f4f832f926daac81e3d": {
          "model_module": "@jupyter-widgets/base",
          "model_name": "LayoutModel",
          "model_module_version": "1.2.0",
          "state": {
            "_model_module": "@jupyter-widgets/base",
            "_model_module_version": "1.2.0",
            "_model_name": "LayoutModel",
            "_view_count": null,
            "_view_module": "@jupyter-widgets/base",
            "_view_module_version": "1.2.0",
            "_view_name": "LayoutView",
            "align_content": null,
            "align_items": null,
            "align_self": null,
            "border": null,
            "bottom": null,
            "display": null,
            "flex": null,
            "flex_flow": null,
            "grid_area": null,
            "grid_auto_columns": null,
            "grid_auto_flow": null,
            "grid_auto_rows": null,
            "grid_column": null,
            "grid_gap": null,
            "grid_row": null,
            "grid_template_areas": null,
            "grid_template_columns": null,
            "grid_template_rows": null,
            "height": null,
            "justify_content": null,
            "justify_items": null,
            "left": null,
            "margin": null,
            "max_height": null,
            "max_width": null,
            "min_height": null,
            "min_width": null,
            "object_fit": null,
            "object_position": null,
            "order": null,
            "overflow": null,
            "overflow_x": null,
            "overflow_y": null,
            "padding": null,
            "right": null,
            "top": null,
            "visibility": null,
            "width": null
          }
        },
        "2bb11f79847a40c4ba995d88385efa90": {
          "model_module": "@jupyter-widgets/controls",
          "model_name": "DescriptionStyleModel",
          "model_module_version": "1.5.0",
          "state": {
            "_model_module": "@jupyter-widgets/controls",
            "_model_module_version": "1.5.0",
            "_model_name": "DescriptionStyleModel",
            "_view_count": null,
            "_view_module": "@jupyter-widgets/base",
            "_view_module_version": "1.2.0",
            "_view_name": "StyleView",
            "description_width": ""
          }
        },
        "b9b6c717d02f4284975dda69b31927b0": {
          "model_module": "@jupyter-widgets/base",
          "model_name": "LayoutModel",
          "model_module_version": "1.2.0",
          "state": {
            "_model_module": "@jupyter-widgets/base",
            "_model_module_version": "1.2.0",
            "_model_name": "LayoutModel",
            "_view_count": null,
            "_view_module": "@jupyter-widgets/base",
            "_view_module_version": "1.2.0",
            "_view_name": "LayoutView",
            "align_content": null,
            "align_items": null,
            "align_self": null,
            "border": null,
            "bottom": null,
            "display": null,
            "flex": null,
            "flex_flow": null,
            "grid_area": null,
            "grid_auto_columns": null,
            "grid_auto_flow": null,
            "grid_auto_rows": null,
            "grid_column": null,
            "grid_gap": null,
            "grid_row": null,
            "grid_template_areas": null,
            "grid_template_columns": null,
            "grid_template_rows": null,
            "height": null,
            "justify_content": null,
            "justify_items": null,
            "left": null,
            "margin": null,
            "max_height": null,
            "max_width": null,
            "min_height": null,
            "min_width": null,
            "object_fit": null,
            "object_position": null,
            "order": null,
            "overflow": null,
            "overflow_x": null,
            "overflow_y": null,
            "padding": null,
            "right": null,
            "top": null,
            "visibility": null,
            "width": null
          }
        },
        "fb6e05bc7fcb48afb63dc0c93587ab74": {
          "model_module": "@jupyter-widgets/controls",
          "model_name": "ProgressStyleModel",
          "model_module_version": "1.5.0",
          "state": {
            "_model_module": "@jupyter-widgets/controls",
            "_model_module_version": "1.5.0",
            "_model_name": "ProgressStyleModel",
            "_view_count": null,
            "_view_module": "@jupyter-widgets/base",
            "_view_module_version": "1.2.0",
            "_view_name": "StyleView",
            "bar_color": null,
            "description_width": ""
          }
        },
        "5d108cd5115b4c14837e5a131727f44b": {
          "model_module": "@jupyter-widgets/base",
          "model_name": "LayoutModel",
          "model_module_version": "1.2.0",
          "state": {
            "_model_module": "@jupyter-widgets/base",
            "_model_module_version": "1.2.0",
            "_model_name": "LayoutModel",
            "_view_count": null,
            "_view_module": "@jupyter-widgets/base",
            "_view_module_version": "1.2.0",
            "_view_name": "LayoutView",
            "align_content": null,
            "align_items": null,
            "align_self": null,
            "border": null,
            "bottom": null,
            "display": null,
            "flex": null,
            "flex_flow": null,
            "grid_area": null,
            "grid_auto_columns": null,
            "grid_auto_flow": null,
            "grid_auto_rows": null,
            "grid_column": null,
            "grid_gap": null,
            "grid_row": null,
            "grid_template_areas": null,
            "grid_template_columns": null,
            "grid_template_rows": null,
            "height": null,
            "justify_content": null,
            "justify_items": null,
            "left": null,
            "margin": null,
            "max_height": null,
            "max_width": null,
            "min_height": null,
            "min_width": null,
            "object_fit": null,
            "object_position": null,
            "order": null,
            "overflow": null,
            "overflow_x": null,
            "overflow_y": null,
            "padding": null,
            "right": null,
            "top": null,
            "visibility": null,
            "width": null
          }
        },
        "83f6fb9f0b3e455796be392906831946": {
          "model_module": "@jupyter-widgets/controls",
          "model_name": "DescriptionStyleModel",
          "model_module_version": "1.5.0",
          "state": {
            "_model_module": "@jupyter-widgets/controls",
            "_model_module_version": "1.5.0",
            "_model_name": "DescriptionStyleModel",
            "_view_count": null,
            "_view_module": "@jupyter-widgets/base",
            "_view_module_version": "1.2.0",
            "_view_name": "StyleView",
            "description_width": ""
          }
        },
        "16682beac896483d9caf365a379e7852": {
          "model_module": "@jupyter-widgets/controls",
          "model_name": "HBoxModel",
          "model_module_version": "1.5.0",
          "state": {
            "_dom_classes": [],
            "_model_module": "@jupyter-widgets/controls",
            "_model_module_version": "1.5.0",
            "_model_name": "HBoxModel",
            "_view_count": null,
            "_view_module": "@jupyter-widgets/controls",
            "_view_module_version": "1.5.0",
            "_view_name": "HBoxView",
            "box_style": "",
            "children": [
              "IPY_MODEL_bcea4e1d29734a2986dbd4750e9aa712",
              "IPY_MODEL_794171103274410dbf47dc9e0c186425",
              "IPY_MODEL_12c539e58330496f8e8a78d626f6fa80"
            ],
            "layout": "IPY_MODEL_326af930b611405c9c2e6f4ad90ead88"
          }
        },
        "bcea4e1d29734a2986dbd4750e9aa712": {
          "model_module": "@jupyter-widgets/controls",
          "model_name": "HTMLModel",
          "model_module_version": "1.5.0",
          "state": {
            "_dom_classes": [],
            "_model_module": "@jupyter-widgets/controls",
            "_model_module_version": "1.5.0",
            "_model_name": "HTMLModel",
            "_view_count": null,
            "_view_module": "@jupyter-widgets/controls",
            "_view_module_version": "1.5.0",
            "_view_name": "HTMLView",
            "description": "",
            "description_tooltip": null,
            "layout": "IPY_MODEL_c7ab7ed1ee79478695ca3619044ad23d",
            "placeholder": "​",
            "style": "IPY_MODEL_1057c26d397642309acffae2a9685750",
            "value": "100%"
          }
        },
        "794171103274410dbf47dc9e0c186425": {
          "model_module": "@jupyter-widgets/controls",
          "model_name": "FloatProgressModel",
          "model_module_version": "1.5.0",
          "state": {
            "_dom_classes": [],
            "_model_module": "@jupyter-widgets/controls",
            "_model_module_version": "1.5.0",
            "_model_name": "FloatProgressModel",
            "_view_count": null,
            "_view_module": "@jupyter-widgets/controls",
            "_view_module_version": "1.5.0",
            "_view_name": "ProgressView",
            "bar_style": "success",
            "description": "",
            "description_tooltip": null,
            "layout": "IPY_MODEL_96fd0835d6d84879b73a74076a836640",
            "max": 1648877,
            "min": 0,
            "orientation": "horizontal",
            "style": "IPY_MODEL_048ae98f21914dcf96e8fa794e284adf",
            "value": 1648877
          }
        },
        "12c539e58330496f8e8a78d626f6fa80": {
          "model_module": "@jupyter-widgets/controls",
          "model_name": "HTMLModel",
          "model_module_version": "1.5.0",
          "state": {
            "_dom_classes": [],
            "_model_module": "@jupyter-widgets/controls",
            "_model_module_version": "1.5.0",
            "_model_name": "HTMLModel",
            "_view_count": null,
            "_view_module": "@jupyter-widgets/controls",
            "_view_module_version": "1.5.0",
            "_view_name": "HTMLView",
            "description": "",
            "description_tooltip": null,
            "layout": "IPY_MODEL_b1a6cc389fcf4f6f96453d5d0f438c0c",
            "placeholder": "​",
            "style": "IPY_MODEL_c9df912c08c144ceb9193167f206a9b6",
            "value": " 1648877/1648877 [00:00&lt;00:00, 16525269.52it/s]"
          }
        },
        "326af930b611405c9c2e6f4ad90ead88": {
          "model_module": "@jupyter-widgets/base",
          "model_name": "LayoutModel",
          "model_module_version": "1.2.0",
          "state": {
            "_model_module": "@jupyter-widgets/base",
            "_model_module_version": "1.2.0",
            "_model_name": "LayoutModel",
            "_view_count": null,
            "_view_module": "@jupyter-widgets/base",
            "_view_module_version": "1.2.0",
            "_view_name": "LayoutView",
            "align_content": null,
            "align_items": null,
            "align_self": null,
            "border": null,
            "bottom": null,
            "display": null,
            "flex": null,
            "flex_flow": null,
            "grid_area": null,
            "grid_auto_columns": null,
            "grid_auto_flow": null,
            "grid_auto_rows": null,
            "grid_column": null,
            "grid_gap": null,
            "grid_row": null,
            "grid_template_areas": null,
            "grid_template_columns": null,
            "grid_template_rows": null,
            "height": null,
            "justify_content": null,
            "justify_items": null,
            "left": null,
            "margin": null,
            "max_height": null,
            "max_width": null,
            "min_height": null,
            "min_width": null,
            "object_fit": null,
            "object_position": null,
            "order": null,
            "overflow": null,
            "overflow_x": null,
            "overflow_y": null,
            "padding": null,
            "right": null,
            "top": null,
            "visibility": null,
            "width": null
          }
        },
        "c7ab7ed1ee79478695ca3619044ad23d": {
          "model_module": "@jupyter-widgets/base",
          "model_name": "LayoutModel",
          "model_module_version": "1.2.0",
          "state": {
            "_model_module": "@jupyter-widgets/base",
            "_model_module_version": "1.2.0",
            "_model_name": "LayoutModel",
            "_view_count": null,
            "_view_module": "@jupyter-widgets/base",
            "_view_module_version": "1.2.0",
            "_view_name": "LayoutView",
            "align_content": null,
            "align_items": null,
            "align_self": null,
            "border": null,
            "bottom": null,
            "display": null,
            "flex": null,
            "flex_flow": null,
            "grid_area": null,
            "grid_auto_columns": null,
            "grid_auto_flow": null,
            "grid_auto_rows": null,
            "grid_column": null,
            "grid_gap": null,
            "grid_row": null,
            "grid_template_areas": null,
            "grid_template_columns": null,
            "grid_template_rows": null,
            "height": null,
            "justify_content": null,
            "justify_items": null,
            "left": null,
            "margin": null,
            "max_height": null,
            "max_width": null,
            "min_height": null,
            "min_width": null,
            "object_fit": null,
            "object_position": null,
            "order": null,
            "overflow": null,
            "overflow_x": null,
            "overflow_y": null,
            "padding": null,
            "right": null,
            "top": null,
            "visibility": null,
            "width": null
          }
        },
        "1057c26d397642309acffae2a9685750": {
          "model_module": "@jupyter-widgets/controls",
          "model_name": "DescriptionStyleModel",
          "model_module_version": "1.5.0",
          "state": {
            "_model_module": "@jupyter-widgets/controls",
            "_model_module_version": "1.5.0",
            "_model_name": "DescriptionStyleModel",
            "_view_count": null,
            "_view_module": "@jupyter-widgets/base",
            "_view_module_version": "1.2.0",
            "_view_name": "StyleView",
            "description_width": ""
          }
        },
        "96fd0835d6d84879b73a74076a836640": {
          "model_module": "@jupyter-widgets/base",
          "model_name": "LayoutModel",
          "model_module_version": "1.2.0",
          "state": {
            "_model_module": "@jupyter-widgets/base",
            "_model_module_version": "1.2.0",
            "_model_name": "LayoutModel",
            "_view_count": null,
            "_view_module": "@jupyter-widgets/base",
            "_view_module_version": "1.2.0",
            "_view_name": "LayoutView",
            "align_content": null,
            "align_items": null,
            "align_self": null,
            "border": null,
            "bottom": null,
            "display": null,
            "flex": null,
            "flex_flow": null,
            "grid_area": null,
            "grid_auto_columns": null,
            "grid_auto_flow": null,
            "grid_auto_rows": null,
            "grid_column": null,
            "grid_gap": null,
            "grid_row": null,
            "grid_template_areas": null,
            "grid_template_columns": null,
            "grid_template_rows": null,
            "height": null,
            "justify_content": null,
            "justify_items": null,
            "left": null,
            "margin": null,
            "max_height": null,
            "max_width": null,
            "min_height": null,
            "min_width": null,
            "object_fit": null,
            "object_position": null,
            "order": null,
            "overflow": null,
            "overflow_x": null,
            "overflow_y": null,
            "padding": null,
            "right": null,
            "top": null,
            "visibility": null,
            "width": null
          }
        },
        "048ae98f21914dcf96e8fa794e284adf": {
          "model_module": "@jupyter-widgets/controls",
          "model_name": "ProgressStyleModel",
          "model_module_version": "1.5.0",
          "state": {
            "_model_module": "@jupyter-widgets/controls",
            "_model_module_version": "1.5.0",
            "_model_name": "ProgressStyleModel",
            "_view_count": null,
            "_view_module": "@jupyter-widgets/base",
            "_view_module_version": "1.2.0",
            "_view_name": "StyleView",
            "bar_color": null,
            "description_width": ""
          }
        },
        "b1a6cc389fcf4f6f96453d5d0f438c0c": {
          "model_module": "@jupyter-widgets/base",
          "model_name": "LayoutModel",
          "model_module_version": "1.2.0",
          "state": {
            "_model_module": "@jupyter-widgets/base",
            "_model_module_version": "1.2.0",
            "_model_name": "LayoutModel",
            "_view_count": null,
            "_view_module": "@jupyter-widgets/base",
            "_view_module_version": "1.2.0",
            "_view_name": "LayoutView",
            "align_content": null,
            "align_items": null,
            "align_self": null,
            "border": null,
            "bottom": null,
            "display": null,
            "flex": null,
            "flex_flow": null,
            "grid_area": null,
            "grid_auto_columns": null,
            "grid_auto_flow": null,
            "grid_auto_rows": null,
            "grid_column": null,
            "grid_gap": null,
            "grid_row": null,
            "grid_template_areas": null,
            "grid_template_columns": null,
            "grid_template_rows": null,
            "height": null,
            "justify_content": null,
            "justify_items": null,
            "left": null,
            "margin": null,
            "max_height": null,
            "max_width": null,
            "min_height": null,
            "min_width": null,
            "object_fit": null,
            "object_position": null,
            "order": null,
            "overflow": null,
            "overflow_x": null,
            "overflow_y": null,
            "padding": null,
            "right": null,
            "top": null,
            "visibility": null,
            "width": null
          }
        },
        "c9df912c08c144ceb9193167f206a9b6": {
          "model_module": "@jupyter-widgets/controls",
          "model_name": "DescriptionStyleModel",
          "model_module_version": "1.5.0",
          "state": {
            "_model_module": "@jupyter-widgets/controls",
            "_model_module_version": "1.5.0",
            "_model_name": "DescriptionStyleModel",
            "_view_count": null,
            "_view_module": "@jupyter-widgets/base",
            "_view_module_version": "1.2.0",
            "_view_name": "StyleView",
            "description_width": ""
          }
        },
        "625c569f4c0c43b3afaf4a782ccc1db0": {
          "model_module": "@jupyter-widgets/controls",
          "model_name": "HBoxModel",
          "model_module_version": "1.5.0",
          "state": {
            "_dom_classes": [],
            "_model_module": "@jupyter-widgets/controls",
            "_model_module_version": "1.5.0",
            "_model_name": "HBoxModel",
            "_view_count": null,
            "_view_module": "@jupyter-widgets/controls",
            "_view_module_version": "1.5.0",
            "_view_name": "HBoxView",
            "box_style": "",
            "children": [
              "IPY_MODEL_398850d993c14e30a4cf86e91e2c513a",
              "IPY_MODEL_a6133374e2b3401b84778a9a53916baf",
              "IPY_MODEL_3e9fa5f19cd242e583681cfc3537f81f"
            ],
            "layout": "IPY_MODEL_90688a091a664a02bf90a0992b1d0c43"
          }
        },
        "398850d993c14e30a4cf86e91e2c513a": {
          "model_module": "@jupyter-widgets/controls",
          "model_name": "HTMLModel",
          "model_module_version": "1.5.0",
          "state": {
            "_dom_classes": [],
            "_model_module": "@jupyter-widgets/controls",
            "_model_module_version": "1.5.0",
            "_model_name": "HTMLModel",
            "_view_count": null,
            "_view_module": "@jupyter-widgets/controls",
            "_view_module_version": "1.5.0",
            "_view_name": "HTMLView",
            "description": "",
            "description_tooltip": null,
            "layout": "IPY_MODEL_ee75cff569d94672ac2b22f64c1cfc8c",
            "placeholder": "​",
            "style": "IPY_MODEL_80e9a5d4cde54547b4f4790b7c1b75da",
            "value": "100%"
          }
        },
        "a6133374e2b3401b84778a9a53916baf": {
          "model_module": "@jupyter-widgets/controls",
          "model_name": "FloatProgressModel",
          "model_module_version": "1.5.0",
          "state": {
            "_dom_classes": [],
            "_model_module": "@jupyter-widgets/controls",
            "_model_module_version": "1.5.0",
            "_model_name": "FloatProgressModel",
            "_view_count": null,
            "_view_module": "@jupyter-widgets/controls",
            "_view_module_version": "1.5.0",
            "_view_name": "ProgressView",
            "bar_style": "success",
            "description": "",
            "description_tooltip": null,
            "layout": "IPY_MODEL_d5480f49d3574bd49e82b1d7b19f4ef4",
            "max": 4542,
            "min": 0,
            "orientation": "horizontal",
            "style": "IPY_MODEL_642ecc2efbf540b69b5232e52f23625c",
            "value": 4542
          }
        },
        "3e9fa5f19cd242e583681cfc3537f81f": {
          "model_module": "@jupyter-widgets/controls",
          "model_name": "HTMLModel",
          "model_module_version": "1.5.0",
          "state": {
            "_dom_classes": [],
            "_model_module": "@jupyter-widgets/controls",
            "_model_module_version": "1.5.0",
            "_model_name": "HTMLModel",
            "_view_count": null,
            "_view_module": "@jupyter-widgets/controls",
            "_view_module_version": "1.5.0",
            "_view_name": "HTMLView",
            "description": "",
            "description_tooltip": null,
            "layout": "IPY_MODEL_233c0c7582ab4fc2a876ee5112a3459d",
            "placeholder": "​",
            "style": "IPY_MODEL_1555f5debccd4a56baf17faafaf33d7c",
            "value": " 4542/4542 [00:00&lt;00:00, 63582.09it/s]"
          }
        },
        "90688a091a664a02bf90a0992b1d0c43": {
          "model_module": "@jupyter-widgets/base",
          "model_name": "LayoutModel",
          "model_module_version": "1.2.0",
          "state": {
            "_model_module": "@jupyter-widgets/base",
            "_model_module_version": "1.2.0",
            "_model_name": "LayoutModel",
            "_view_count": null,
            "_view_module": "@jupyter-widgets/base",
            "_view_module_version": "1.2.0",
            "_view_name": "LayoutView",
            "align_content": null,
            "align_items": null,
            "align_self": null,
            "border": null,
            "bottom": null,
            "display": null,
            "flex": null,
            "flex_flow": null,
            "grid_area": null,
            "grid_auto_columns": null,
            "grid_auto_flow": null,
            "grid_auto_rows": null,
            "grid_column": null,
            "grid_gap": null,
            "grid_row": null,
            "grid_template_areas": null,
            "grid_template_columns": null,
            "grid_template_rows": null,
            "height": null,
            "justify_content": null,
            "justify_items": null,
            "left": null,
            "margin": null,
            "max_height": null,
            "max_width": null,
            "min_height": null,
            "min_width": null,
            "object_fit": null,
            "object_position": null,
            "order": null,
            "overflow": null,
            "overflow_x": null,
            "overflow_y": null,
            "padding": null,
            "right": null,
            "top": null,
            "visibility": null,
            "width": null
          }
        },
        "ee75cff569d94672ac2b22f64c1cfc8c": {
          "model_module": "@jupyter-widgets/base",
          "model_name": "LayoutModel",
          "model_module_version": "1.2.0",
          "state": {
            "_model_module": "@jupyter-widgets/base",
            "_model_module_version": "1.2.0",
            "_model_name": "LayoutModel",
            "_view_count": null,
            "_view_module": "@jupyter-widgets/base",
            "_view_module_version": "1.2.0",
            "_view_name": "LayoutView",
            "align_content": null,
            "align_items": null,
            "align_self": null,
            "border": null,
            "bottom": null,
            "display": null,
            "flex": null,
            "flex_flow": null,
            "grid_area": null,
            "grid_auto_columns": null,
            "grid_auto_flow": null,
            "grid_auto_rows": null,
            "grid_column": null,
            "grid_gap": null,
            "grid_row": null,
            "grid_template_areas": null,
            "grid_template_columns": null,
            "grid_template_rows": null,
            "height": null,
            "justify_content": null,
            "justify_items": null,
            "left": null,
            "margin": null,
            "max_height": null,
            "max_width": null,
            "min_height": null,
            "min_width": null,
            "object_fit": null,
            "object_position": null,
            "order": null,
            "overflow": null,
            "overflow_x": null,
            "overflow_y": null,
            "padding": null,
            "right": null,
            "top": null,
            "visibility": null,
            "width": null
          }
        },
        "80e9a5d4cde54547b4f4790b7c1b75da": {
          "model_module": "@jupyter-widgets/controls",
          "model_name": "DescriptionStyleModel",
          "model_module_version": "1.5.0",
          "state": {
            "_model_module": "@jupyter-widgets/controls",
            "_model_module_version": "1.5.0",
            "_model_name": "DescriptionStyleModel",
            "_view_count": null,
            "_view_module": "@jupyter-widgets/base",
            "_view_module_version": "1.2.0",
            "_view_name": "StyleView",
            "description_width": ""
          }
        },
        "d5480f49d3574bd49e82b1d7b19f4ef4": {
          "model_module": "@jupyter-widgets/base",
          "model_name": "LayoutModel",
          "model_module_version": "1.2.0",
          "state": {
            "_model_module": "@jupyter-widgets/base",
            "_model_module_version": "1.2.0",
            "_model_name": "LayoutModel",
            "_view_count": null,
            "_view_module": "@jupyter-widgets/base",
            "_view_module_version": "1.2.0",
            "_view_name": "LayoutView",
            "align_content": null,
            "align_items": null,
            "align_self": null,
            "border": null,
            "bottom": null,
            "display": null,
            "flex": null,
            "flex_flow": null,
            "grid_area": null,
            "grid_auto_columns": null,
            "grid_auto_flow": null,
            "grid_auto_rows": null,
            "grid_column": null,
            "grid_gap": null,
            "grid_row": null,
            "grid_template_areas": null,
            "grid_template_columns": null,
            "grid_template_rows": null,
            "height": null,
            "justify_content": null,
            "justify_items": null,
            "left": null,
            "margin": null,
            "max_height": null,
            "max_width": null,
            "min_height": null,
            "min_width": null,
            "object_fit": null,
            "object_position": null,
            "order": null,
            "overflow": null,
            "overflow_x": null,
            "overflow_y": null,
            "padding": null,
            "right": null,
            "top": null,
            "visibility": null,
            "width": null
          }
        },
        "642ecc2efbf540b69b5232e52f23625c": {
          "model_module": "@jupyter-widgets/controls",
          "model_name": "ProgressStyleModel",
          "model_module_version": "1.5.0",
          "state": {
            "_model_module": "@jupyter-widgets/controls",
            "_model_module_version": "1.5.0",
            "_model_name": "ProgressStyleModel",
            "_view_count": null,
            "_view_module": "@jupyter-widgets/base",
            "_view_module_version": "1.2.0",
            "_view_name": "StyleView",
            "bar_color": null,
            "description_width": ""
          }
        },
        "233c0c7582ab4fc2a876ee5112a3459d": {
          "model_module": "@jupyter-widgets/base",
          "model_name": "LayoutModel",
          "model_module_version": "1.2.0",
          "state": {
            "_model_module": "@jupyter-widgets/base",
            "_model_module_version": "1.2.0",
            "_model_name": "LayoutModel",
            "_view_count": null,
            "_view_module": "@jupyter-widgets/base",
            "_view_module_version": "1.2.0",
            "_view_name": "LayoutView",
            "align_content": null,
            "align_items": null,
            "align_self": null,
            "border": null,
            "bottom": null,
            "display": null,
            "flex": null,
            "flex_flow": null,
            "grid_area": null,
            "grid_auto_columns": null,
            "grid_auto_flow": null,
            "grid_auto_rows": null,
            "grid_column": null,
            "grid_gap": null,
            "grid_row": null,
            "grid_template_areas": null,
            "grid_template_columns": null,
            "grid_template_rows": null,
            "height": null,
            "justify_content": null,
            "justify_items": null,
            "left": null,
            "margin": null,
            "max_height": null,
            "max_width": null,
            "min_height": null,
            "min_width": null,
            "object_fit": null,
            "object_position": null,
            "order": null,
            "overflow": null,
            "overflow_x": null,
            "overflow_y": null,
            "padding": null,
            "right": null,
            "top": null,
            "visibility": null,
            "width": null
          }
        },
        "1555f5debccd4a56baf17faafaf33d7c": {
          "model_module": "@jupyter-widgets/controls",
          "model_name": "DescriptionStyleModel",
          "model_module_version": "1.5.0",
          "state": {
            "_model_module": "@jupyter-widgets/controls",
            "_model_module_version": "1.5.0",
            "_model_name": "DescriptionStyleModel",
            "_view_count": null,
            "_view_module": "@jupyter-widgets/base",
            "_view_module_version": "1.2.0",
            "_view_name": "StyleView",
            "description_width": ""
          }
        }
      }
    }
  },
  "nbformat": 4,
  "nbformat_minor": 0
}